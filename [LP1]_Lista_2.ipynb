{
  "nbformat": 4,
  "nbformat_minor": 0,
  "metadata": {
    "colab": {
      "provenance": [],
      "authorship_tag": "ABX9TyOKYXay2bNaqZyYcNirm9fz",
      "include_colab_link": true
    },
    "kernelspec": {
      "name": "python3",
      "display_name": "Python 3"
    },
    "language_info": {
      "name": "python"
    }
  },
  "cells": [
    {
      "cell_type": "markdown",
      "metadata": {
        "id": "view-in-github",
        "colab_type": "text"
      },
      "source": [
        "<a href=\"https://colab.research.google.com/github/faustolucena/aulas/blob/main/%5BLP1%5D_Lista_2.ipynb\" target=\"_parent\"><img src=\"https://colab.research.google.com/assets/colab-badge.svg\" alt=\"Open In Colab\"/></a>"
      ]
    },
    {
      "cell_type": "markdown",
      "source": [
        "**Q1 -** Faça um programa que pede duas notas de um aluno. Em seguida ele deve calcular a média do aluno e dar o seguinte resultado:\n",
        "\n",
        "A mensagem \"Aprovado\", se a média alcançada for maior ou igual a sete;\n",
        "A mensagem \"Reprovado\", se a média for menor do que sete;\n",
        "A mensagem \"Aprovado com Distinção\", se a média for igual a dez."
      ],
      "metadata": {
        "id": "FXq3l9i0oSVd"
      }
    },
    {
      "cell_type": "code",
      "execution_count": 7,
      "metadata": {
        "id": "IfJi_hualfIV"
      },
      "outputs": [],
      "source": [
        "def mymedia(n1,n2):\n",
        "  nf = (n1+n1)/2\n",
        "  if nf>=7:\n",
        "    print(f'Aluno aprovado')\n",
        "    if nf==10:\n",
        "      print(f'Aprovado com Distinção')    \n",
        "  else:\n",
        "    print(f'Aluno reprovado')"
      ]
    },
    {
      "cell_type": "code",
      "source": [
        "mymedia(10,10)"
      ],
      "metadata": {
        "colab": {
          "base_uri": "https://localhost:8080/"
        },
        "id": "R6lZaceMnevz",
        "outputId": "1c50f727-b96b-42d7-8bbd-7dbb05880beb"
      },
      "execution_count": 8,
      "outputs": [
        {
          "output_type": "stream",
          "name": "stdout",
          "text": [
            "Aluno aprovado\n",
            "Aprovado com Distinção\n"
          ]
        }
      ]
    },
    {
      "cell_type": "markdown",
      "source": [
        "**Q2 -** Faça um Programa que leia três números inteiros e mostre o maior deles."
      ],
      "metadata": {
        "id": "nWAlyhpcoeNh"
      }
    },
    {
      "cell_type": "code",
      "source": [
        "def meumaior(n):\n",
        "  # n é o número de valores de entrada\n",
        "  lista = []\n",
        "  for x in range(1,n+1):\n",
        "    numero = int(input(f'Digite o {x} número: '))\n",
        "    lista.append(numero)\n",
        "\n",
        "  maior=lista[0]\n",
        "  for x in lista:\n",
        "    if maior<x:\n",
        "      maior=x\n",
        "\n",
        "  print(f'O maior número é {maior}!!!')\n"
      ],
      "metadata": {
        "id": "B65H0ngUof8E"
      },
      "execution_count": 14,
      "outputs": []
    },
    {
      "cell_type": "code",
      "source": [
        "meumaior(4)"
      ],
      "metadata": {
        "colab": {
          "base_uri": "https://localhost:8080/"
        },
        "id": "yFO6G9acpvH1",
        "outputId": "71116397-0f57-44eb-ea82-9d6cc27cdf74"
      },
      "execution_count": 15,
      "outputs": [
        {
          "output_type": "stream",
          "name": "stdout",
          "text": [
            "Digite o 1 número: 1\n",
            "Digite o 2 número: 2\n",
            "Digite o 3 número: 3\n",
            "Digite o 4 número: 4\n",
            "O maior número é 4!!!\n"
          ]
        }
      ]
    },
    {
      "cell_type": "markdown",
      "source": [
        "**Q3 -** Faça um Programa que pergunte em que turno você estuda. Peça para digitar M-matutino ou V-Vespertino ou N- Noturno. Imprima a mensagem \"Bom Dia!\", \"Boa Tarde!\" ou \"Boa Noite!\" ou \"Valor Inválido!\", conforme o caso."
      ],
      "metadata": {
        "id": "l_3ztQB8rlek"
      }
    },
    {
      "cell_type": "code",
      "source": [
        "def number_to_string(argument):\n",
        "    match argument:\n",
        "        case 0:\n",
        "            return \"zero\"\n",
        "        case 1:\n",
        "            return \"one\"\n",
        "        case 2:\n",
        "            return \"two\"\n",
        "        case default:\n",
        "            return \"something\"\n",
        " \n",
        " \n",
        "if __name__ == \"__main__\":\n",
        "    argument = 0\n",
        "    number_to_string(argument)\n"
      ],
      "metadata": {
        "colab": {
          "base_uri": "https://localhost:8080/",
          "height": 131
        },
        "id": "b1cbf-mTr5uT",
        "outputId": "54ba3ebd-e9ab-4a8a-da18-42e5c605e695"
      },
      "execution_count": 24,
      "outputs": [
        {
          "output_type": "error",
          "ename": "SyntaxError",
          "evalue": "ignored",
          "traceback": [
            "\u001b[0;36m  File \u001b[0;32m\"<ipython-input-24-450e250cb26c>\"\u001b[0;36m, line \u001b[0;32m2\u001b[0m\n\u001b[0;31m    match argument:\u001b[0m\n\u001b[0m                 ^\u001b[0m\n\u001b[0;31mSyntaxError\u001b[0m\u001b[0;31m:\u001b[0m invalid syntax\n"
          ]
        }
      ]
    }
  ]
}