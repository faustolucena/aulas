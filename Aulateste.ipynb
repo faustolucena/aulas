{
  "nbformat": 4,
  "nbformat_minor": 0,
  "metadata": {
    "colab": {
      "provenance": [],
      "toc_visible": true,
      "authorship_tag": "ABX9TyNWVgQt0nyyRPGylc+Cl3mN",
      "include_colab_link": true
    },
    "kernelspec": {
      "name": "python3",
      "display_name": "Python 3"
    },
    "language_info": {
      "name": "python"
    }
  },
  "cells": [
    {
      "cell_type": "markdown",
      "metadata": {
        "id": "view-in-github",
        "colab_type": "text"
      },
      "source": [
        "<a href=\"https://colab.research.google.com/github/faustolucena/aulas/blob/main/Aulateste.ipynb\" target=\"_parent\"><img src=\"https://colab.research.google.com/assets/colab-badge.svg\" alt=\"Open In Colab\"/></a>"
      ]
    },
    {
      "cell_type": "markdown",
      "source": [
        "Digite a quandidade da sequencia de numeros da série: 12\n",
        "Digite uma sequência de numeros: 5\n",
        "Digite uma sequência de numeros: -7\n",
        "Digite uma sequência de numeros: 8\n",
        "Digite uma sequência de numeros: 5\n",
        "Digite uma sequência de numeros: 12\n",
        "Digite uma sequência de numeros: 1\n",
        "Digite uma sequência de numeros: 8\n",
        "Digite uma sequência de numeros: 12\n",
        "Digite uma sequência de numeros: 12\n",
        "Digite uma sequência de numeros: 17\n",
        "Digite uma sequência de numeros: 19\n",
        "Digite uma sequência de numeros: 20\n",
        "[5, -7, 8, 5, 12, 1, 8, 12, 12, 17, 19, 20]\n",
        "[-7, 5, 1, 8, 12, 17, 19, 20]"
      ],
      "metadata": {
        "id": "tlcRDyTJC2IF"
      }
    },
    {
      "cell_type": "code",
      "execution_count": 1,
      "metadata": {
        "colab": {
          "base_uri": "https://localhost:8080/"
        },
        "id": "S7QWeG5YCee6",
        "outputId": "173ba425-f72f-42e9-c2b9-81f798d16f4b"
      },
      "outputs": [
        {
          "output_type": "stream",
          "name": "stdout",
          "text": [
            "Helo World\n"
          ]
        }
      ],
      "source": [
        "print('Helo World')"
      ]
    }
  ]
}