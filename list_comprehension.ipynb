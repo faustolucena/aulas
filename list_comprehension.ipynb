{
  "nbformat": 4,
  "nbformat_minor": 0,
  "metadata": {
    "colab": {
      "provenance": [],
      "authorship_tag": "ABX9TyPyJ1ebhEcDINy8ZAbVMWyg",
      "include_colab_link": true
    },
    "kernelspec": {
      "name": "python3",
      "display_name": "Python 3"
    },
    "language_info": {
      "name": "python"
    }
  },
  "cells": [
    {
      "cell_type": "markdown",
      "metadata": {
        "id": "view-in-github",
        "colab_type": "text"
      },
      "source": [
        "<a href=\"https://colab.research.google.com/github/faustolucena/aulas/blob/main/list_comprehension.ipynb\" target=\"_parent\"><img src=\"https://colab.research.google.com/assets/colab-badge.svg\" alt=\"Open In Colab\"/></a>"
      ]
    },
    {
      "cell_type": "code",
      "execution_count": null,
      "metadata": {
        "colab": {
          "base_uri": "https://localhost:8080/"
        },
        "id": "CjsYX6QOvFa1",
        "outputId": "aaa2b771-063b-406d-a73c-2bae87fa07e6"
      },
      "outputs": [
        {
          "output_type": "stream",
          "name": "stdout",
          "text": [
            "[1, 4, 9, 16, 25, 36, 49, 64, 81, 100]\n"
          ]
        }
      ],
      "source": [
        "#list comprehension\n",
        "# o valor de x não é criado\n",
        "lista = range(1,11)\n",
        "quadrados = [x**2 for x in lista] # for, if, else\n",
        "print(quadrados)"
      ]
    },
    {
      "cell_type": "code",
      "source": [],
      "metadata": {
        "id": "wzwf21Q4Y_rv"
      },
      "execution_count": null,
      "outputs": []
    },
    {
      "cell_type": "code",
      "source": [
        "#dividir um numero qualquer por 2\n",
        "numeros = [1, 3, 5, 7, 9]\n",
        "metades = [n/2 for n in numeros]\n",
        "print(metades)"
      ],
      "metadata": {
        "colab": {
          "base_uri": "https://localhost:8080/"
        },
        "id": "KPB-6_rhvkJH",
        "outputId": "6a4d693c-ee91-4412-be0d-ac2c7f422082"
      },
      "execution_count": null,
      "outputs": [
        {
          "output_type": "stream",
          "name": "stdout",
          "text": [
            "[0.5, 1.5, 2.5, 3.5, 4.5]\n"
          ]
        }
      ]
    },
    {
      "cell_type": "code",
      "source": [
        "def comeca_com_a(frase: str):\n",
        "  frase = frase.lower()\n",
        "  remove = [\".\", \",\", \"?\", \"!\", \"(\", \")\",\":\",\";\"]\n",
        "  for ponto in remove:\n",
        "    frase = frase.replace(ponto, \"\")\n",
        "  frase_lista = frase.split(\" \")\n",
        "  lista_palavras = []\n",
        "  for palavra in frase_lista:\n",
        "    if palavra.startswith(\"a\"):\n",
        "      lista_palavras.append(palavra)\n",
        "  return lista_palavras\n",
        "frase = \"Olá, meu nome é Fabiano e faço algoritmos em Python\""
      ],
      "metadata": {
        "id": "YcJqtvURATvS"
      },
      "execution_count": null,
      "outputs": []
    },
    {
      "cell_type": "code",
      "source": [
        "comeca_com_a(frase)"
      ],
      "metadata": {
        "colab": {
          "base_uri": "https://localhost:8080/"
        },
        "id": "1hsNQ-tCCrsT",
        "outputId": "79cff73d-fa30-4382-964c-0d5e62de468d"
      },
      "execution_count": null,
      "outputs": [
        {
          "output_type": "execute_result",
          "data": {
            "text/plain": [
              "['algoritmos']"
            ]
          },
          "metadata": {},
          "execution_count": 10
        }
      ]
    },
    {
      "cell_type": "markdown",
      "source": [
        "## Exercícios\n",
        "\n",
        "1. Faça um programa em python que receba uma frase, e crie uma lista com apenas as palavras que comecem com a letra \"a\". Caso não exista palavras que se iniciam com letra \"a\", imprima uma lista vazia.  "
      ],
      "metadata": {
        "id": "ie88MbhyDqbE"
      }
    },
    {
      "cell_type": "code",
      "source": [
        "def comeca_com_a(frase: str) -> dict:\n",
        "  lista_a = []\n",
        "  remove = ['.', ',', '?', '!', ';', ':', '']\n",
        "\n",
        "  for simbolo in remove:\n",
        "    frase = frase.replace(simbolo, '')\n",
        "  \n",
        "  lista_palavras = frase.split(' ')\n",
        "\n",
        "  for palavra in lista_palavras:\n",
        "    #print (palavra[0])\n",
        "    if palavra[0] == \"a\":\n",
        "      lista_a.append(palavra)\n",
        "  return lista_a"
      ],
      "metadata": {
        "id": "p9atX4Q5CyYr"
      },
      "execution_count": null,
      "outputs": []
    },
    {
      "cell_type": "code",
      "source": [
        "comeca_com_a(frase)"
      ],
      "metadata": {
        "colab": {
          "base_uri": "https://localhost:8080/"
        },
        "id": "dyXGZJirCyW3",
        "outputId": "57a6f395-0cb6-49e9-9c8e-e4b490dc8bb5"
      },
      "execution_count": null,
      "outputs": [
        {
          "output_type": "execute_result",
          "data": {
            "text/plain": [
              "['algoritmos']"
            ]
          },
          "metadata": {},
          "execution_count": 14
        }
      ]
    },
    {
      "cell_type": "code",
      "source": [
        "def comeca_com_a_comprehension(frase: str) -> dict:\n",
        "  remove = ['.', ',', '?', '!', ';', ':', '']\n",
        "  lista_a = []\n",
        "  for simbolo in remove:\n",
        "    frase = frase.replace(simbolo, '')\n",
        "  \n",
        "  lista_palavras = frase.split(' ')\n",
        "\n",
        "  lista_a = [palavra for palavra in lista_palavras if palavra[0]==\"a\"]\n",
        "\n",
        "  return lista_a"
      ],
      "metadata": {
        "id": "uQ6b19NjE3Yl"
      },
      "execution_count": null,
      "outputs": []
    },
    {
      "cell_type": "code",
      "source": [
        "frase = \"Temos aqui umas três palavras que começam com nossa absurda primeira letra do alfabeto.\"\n",
        "\n",
        "comeca_com_a_comprehension(frase)"
      ],
      "metadata": {
        "colab": {
          "base_uri": "https://localhost:8080/"
        },
        "id": "SK67XUEtDxXF",
        "outputId": "adddaa64-e6ca-479a-f3d4-cdbabcce93c5"
      },
      "execution_count": null,
      "outputs": [
        {
          "output_type": "execute_result",
          "data": {
            "text/plain": [
              "['aqui', 'absurda', 'alfabeto']"
            ]
          },
          "metadata": {},
          "execution_count": 16
        }
      ]
    },
    {
      "cell_type": "markdown",
      "source": [
        "2. Faça um programa em python que receba uma **lista** de alunos e suas respectivas notas em uma disciplina qualquer, e usando **compreensão de listas**, filtre apenas os alunos que obtiveram nota superior ou igual a 7.0. **Observação:** tanto os elementos da lista  recebida, quanto os elementos retornados, deverão ser um dicionário."
      ],
      "metadata": {
        "id": "PShmWNsjD1N9"
      }
    },
    {
      "cell_type": "code",
      "source": [
        "alunos = []\n",
        "notas = []\n",
        "for i in range(6):\n",
        "    aluno = input('Digite o nome do aluno: ')\n",
        "    alunos.append(aluno)\n",
        "    nota = float(input('Digite a nota: '))\n",
        "    notas.append(nota)\n",
        "    \n",
        "    \n",
        "{aluno: nota for aluno, nota in zip(alunos, notas) if nota >= 7}"
      ],
      "metadata": {
        "colab": {
          "base_uri": "https://localhost:8080/"
        },
        "id": "Mm_5PP8pHoju",
        "outputId": "8a1d83a9-1c00-4634-b2c3-de4099db44bc"
      },
      "execution_count": null,
      "outputs": [
        {
          "name": "stdout",
          "output_type": "stream",
          "text": [
            "Digite o nome do aluno: Fausto\n",
            "Digite a nota: 10\n",
            "Digite o nome do aluno: Lauro\n",
            "Digite a nota: 09\n",
            "Digite o nome do aluno: Cesar\n",
            "Digite a nota: 7\n",
            "Digite o nome do aluno: Seila\n",
            "Digite a nota: 1\n",
            "Digite o nome do aluno: maisum\n",
            "Digite a nota: 4\n",
            "Digite o nome do aluno: lucio\n",
            "Digite a nota: 5\n"
          ]
        },
        {
          "output_type": "execute_result",
          "data": {
            "text/plain": [
              "{'Fausto': 10.0, 'Lauro': 9.0, 'Cesar': 7.0}"
            ]
          },
          "metadata": {},
          "execution_count": 18
        }
      ]
    },
    {
      "cell_type": "markdown",
      "source": [
        "**Números pares usando list compreension**"
      ],
      "metadata": {
        "id": "GmdRElpLZZ5Q"
      }
    },
    {
      "cell_type": "code",
      "source": [
        "list = [i for i in range(11) if i%2 ==0]\n",
        "print(list)"
      ],
      "metadata": {
        "colab": {
          "base_uri": "https://localhost:8080/"
        },
        "id": "OrTthN9cZBeT",
        "outputId": "4c720a6e-ca6a-4ff3-b4a2-7a399566af72"
      },
      "execution_count": 1,
      "outputs": [
        {
          "output_type": "stream",
          "name": "stdout",
          "text": [
            "[0, 2, 4, 6, 8, 10]\n"
          ]
        }
      ]
    },
    {
      "cell_type": "markdown",
      "source": [
        "\n",
        "**Matriz usando list comprehension**\n"
      ],
      "metadata": {
        "id": "_pZ6jZ83ZmPB"
      }
    },
    {
      "cell_type": "code",
      "source": [
        "matrix = [[j for j in range(3)] for i in range(3)]\n",
        "print(matrix)"
      ],
      "metadata": {
        "colab": {
          "base_uri": "https://localhost:8080/"
        },
        "id": "evnXMv7cZfMq",
        "outputId": "a2af8298-8ae2-46f7-c327-394f6163c415"
      },
      "execution_count": 2,
      "outputs": [
        {
          "output_type": "stream",
          "name": "stdout",
          "text": [
            "[[0, 1, 2], [0, 1, 2], [0, 1, 2]]\n"
          ]
        }
      ]
    }
  ]
}