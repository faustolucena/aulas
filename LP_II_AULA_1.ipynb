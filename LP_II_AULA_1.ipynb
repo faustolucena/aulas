{
  "nbformat": 4,
  "nbformat_minor": 0,
  "metadata": {
    "colab": {
      "provenance": [],
      "authorship_tag": "ABX9TyP0PEcJ1ylVni7/FxBu9EmZ",
      "include_colab_link": true
    },
    "kernelspec": {
      "name": "python3",
      "display_name": "Python 3"
    },
    "language_info": {
      "name": "python"
    }
  },
  "cells": [
    {
      "cell_type": "markdown",
      "metadata": {
        "id": "view-in-github",
        "colab_type": "text"
      },
      "source": [
        "<a href=\"https://colab.research.google.com/github/faustolucena/aulas/blob/main/LP_II_AULA_1.ipynb\" target=\"_parent\"><img src=\"https://colab.research.google.com/assets/colab-badge.svg\" alt=\"Open In Colab\"/></a>"
      ]
    },
    {
      "cell_type": "code",
      "execution_count": null,
      "metadata": {
        "id": "6huH1Mh5mskd"
      },
      "outputs": [],
      "source": [
        "elementos = []\n",
        "elementos.append(1)\n",
        "elementos.append(2)\n",
        "elementos.append(3)\n",
        "elementos.append(4)\n",
        "elementos.append(5)\n",
        "elementos.append(6)"
      ]
    },
    {
      "cell_type": "code",
      "source": [
        "elementos"
      ],
      "metadata": {
        "colab": {
          "base_uri": "https://localhost:8080/"
        },
        "id": "KQt_D3FXnYKz",
        "outputId": "1b73e411-76db-4998-cbb6-afbaf181fd68"
      },
      "execution_count": null,
      "outputs": [
        {
          "output_type": "execute_result",
          "data": {
            "text/plain": [
              "[1, 2, 3, 4, 5, 6]"
            ]
          },
          "metadata": {},
          "execution_count": 2
        }
      ]
    },
    {
      "cell_type": "code",
      "source": [
        "elementos.insert(2,10)"
      ],
      "metadata": {
        "id": "RKKqQoyqnfmC"
      },
      "execution_count": null,
      "outputs": []
    },
    {
      "cell_type": "code",
      "source": [
        "elementos"
      ],
      "metadata": {
        "colab": {
          "base_uri": "https://localhost:8080/"
        },
        "id": "ekUh2oMAqLSR",
        "outputId": "89d7f400-8e55-4c20-9a53-3fd60a4f4e90"
      },
      "execution_count": null,
      "outputs": [
        {
          "output_type": "execute_result",
          "data": {
            "text/plain": [
              "[1, 2, 10, 10, 3, 4, 5, 6]"
            ]
          },
          "metadata": {},
          "execution_count": 5
        }
      ]
    },
    {
      "cell_type": "code",
      "source": [
        "elementos[::-1]"
      ],
      "metadata": {
        "colab": {
          "base_uri": "https://localhost:8080/"
        },
        "id": "OBWQJmh7rNDm",
        "outputId": "b41561d6-4b65-41d2-81b1-71f2128701bc"
      },
      "execution_count": null,
      "outputs": [
        {
          "output_type": "execute_result",
          "data": {
            "text/plain": [
              "[6, 5, 4, 3, 10, 10, 2, 1]"
            ]
          },
          "metadata": {},
          "execution_count": 6
        }
      ]
    },
    {
      "cell_type": "code",
      "source": [
        "elementos.reverse()"
      ],
      "metadata": {
        "id": "I_U_wTuxrQ-I"
      },
      "execution_count": null,
      "outputs": []
    },
    {
      "cell_type": "code",
      "source": [
        "elementos"
      ],
      "metadata": {
        "colab": {
          "base_uri": "https://localhost:8080/"
        },
        "id": "HA3kU-mbrVj3",
        "outputId": "33ddeae7-8db4-41ef-a054-d0f83537d9e9"
      },
      "execution_count": null,
      "outputs": [
        {
          "output_type": "execute_result",
          "data": {
            "text/plain": [
              "[6, 5, 4, 3, 10, 10, 2, 1]"
            ]
          },
          "metadata": {},
          "execution_count": 8
        }
      ]
    },
    {
      "cell_type": "code",
      "source": [
        "def soma(x,y):\n",
        "  return x+y, x, y\n",
        "\n",
        "resultado, valor1, valor2"
      ],
      "metadata": {
        "id": "wAJRkNwC3bG3",
        "colab": {
          "base_uri": "https://localhost:8080/"
        },
        "outputId": "bf1f6adc-2aec-4e41-cc4b-b7e42457f522"
      },
      "execution_count": 6,
      "outputs": [
        {
          "output_type": "execute_result",
          "data": {
            "text/plain": [
              "(15, 10, 5)"
            ]
          },
          "metadata": {},
          "execution_count": 6
        }
      ]
    },
    {
      "cell_type": "code",
      "source": [
        "soma(4,5)"
      ],
      "metadata": {
        "id": "YCuMb8Os3oCg",
        "outputId": "7c8c686d-24cc-459e-a697-fd19caf38449",
        "colab": {
          "base_uri": "https://localhost:8080/"
        }
      },
      "execution_count": 5,
      "outputs": [
        {
          "output_type": "execute_result",
          "data": {
            "text/plain": [
              "(9, 4, 5)"
            ]
          },
          "metadata": {},
          "execution_count": 5
        }
      ]
    },
    {
      "cell_type": "code",
      "source": [
        "chaves = [\"Nome\", \"Idade\", \"Peso\"]\n",
        "valores = [\"Maria\", 23, 56]\n",
        "\n",
        "pessoa = dict(zip(chaves,valores))\n"
      ],
      "metadata": {
        "id": "IAhjItTTZu5L"
      },
      "execution_count": 7,
      "outputs": []
    },
    {
      "cell_type": "code",
      "source": [
        "pessoa"
      ],
      "metadata": {
        "colab": {
          "base_uri": "https://localhost:8080/"
        },
        "id": "IODgMr6haKj9",
        "outputId": "ebc8760a-0bd2-49ca-f1bd-a8c7f5b73ab9"
      },
      "execution_count": 8,
      "outputs": [
        {
          "output_type": "execute_result",
          "data": {
            "text/plain": [
              "{'Nome': 'Maria', 'Idade': 23, 'Peso': 56}"
            ]
          },
          "metadata": {},
          "execution_count": 8
        }
      ]
    }
  ]
}