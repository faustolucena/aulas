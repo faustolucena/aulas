{
  "cells": [
    {
      "cell_type": "markdown",
      "metadata": {
        "id": "view-in-github",
        "colab_type": "text"
      },
      "source": [
        "<a href=\"https://colab.research.google.com/github/faustolucena/aulas/blob/main/Welcome_To_Colaboratory.ipynb\" target=\"_parent\"><img src=\"https://colab.research.google.com/assets/colab-badge.svg\" alt=\"Open In Colab\"/></a>"
      ]
    },
    {
      "cell_type": "code",
      "source": [
        "metros = float(input('Digite um valor em metros: '))\n",
        "cm = metros*100\n",
        "print(f'O valor de {metros} em centimetros é {cm}')\n"
      ],
      "metadata": {
        "colab": {
          "base_uri": "https://localhost:8080/"
        },
        "id": "40Shr_mZIlH9",
        "outputId": "39ba9cc1-9c72-47cf-c4fa-34c8bee77d92"
      },
      "execution_count": 1,
      "outputs": [
        {
          "output_type": "stream",
          "name": "stdout",
          "text": [
            "Digite um valor em metros: 1.80\n",
            "O valor de 1.8 em centimetros é 180.0\n"
          ]
        }
      ]
    },
    {
      "cell_type": "markdown",
      "source": [
        "Uma financeira usa o seguinte critério para conceder empréstimos: o valor total do empréstimo deve ser até dez vezes o valor da renda mensal do solicitante e o valor da prestação deve ser no máximo 30% da renda mensal do solicitante. Escreva um programa que leia a renda mensal de um solicitante, o valor total do empréstimo solicitado e o número de prestações que o solicitante deseja pagar e informe se o empréstimo pode ou não ser concedido."
      ],
      "metadata": {
        "id": "Qgfp0m1VK2iF"
      }
    },
    {
      "cell_type": "code",
      "source": [
        "salario = float(input('Qual o valor do seu salario? '))\n",
        "emprestimo = float(input('Qual o valor desejado para o emprestimo? '))\n",
        "parcelas = float(input('Qual a quantidade de parcelas? '))\n",
        "\n",
        "\n",
        "if (emprestimo<=10*salario) and ((emprestimo/parcelas)<=salario*0.3):\n",
        "  print(f'Parabéns, seu emprestimo de {emprestimo} foi aprovado!')\n",
        "else:\n",
        "    print(f'Infelizmente, não conseguimos ceder seu emprestimo')\n",
        "\n"
      ],
      "metadata": {
        "colab": {
          "base_uri": "https://localhost:8080/"
        },
        "id": "S4dW_2EdKOwT",
        "outputId": "ba42443f-7c5c-4f04-f9e5-4160a268f4eb"
      },
      "execution_count": 6,
      "outputs": [
        {
          "output_type": "stream",
          "name": "stdout",
          "text": [
            "Qual o valor do seu salario? 100\n",
            "Qual o valor desejado para o emprestimo? 1000\n",
            "Qual a quantidade de parcelas? 36\n",
            "Parabéns, seu emprestimo de 1000.0 foi aprovado!\n"
          ]
        }
      ]
    },
    {
      "cell_type": "markdown",
      "source": [
        "Escreva um programa em python que receba o tamanho do lado de um quadrado, e calcule sua área e seu perímetro, e imprima o resultado na tela."
      ],
      "metadata": {
        "id": "QijgjHn2P1s7"
      }
    },
    {
      "cell_type": "code",
      "source": [
        "lado = float(input('Digite o  valor do lado do quadrado: '))\n",
        "area = lado**2\n",
        "perimetro = lado*4\n",
        "print(f'A àrea do quadrado e seu perimetro são, respectivamente, {area} e {perimetro}')"
      ],
      "metadata": {
        "colab": {
          "base_uri": "https://localhost:8080/"
        },
        "id": "jtha5VxmP462",
        "outputId": "6e584a8e-bed3-4c75-dd4b-90fa20cf1448"
      },
      "execution_count": 8,
      "outputs": [
        {
          "output_type": "stream",
          "name": "stdout",
          "text": [
            "Digite o  valor do lado do quadrado: 100\n",
            "A àrea do quadrado e seu perimetro são, respectivamente, 10000.0 e 400.0\n"
          ]
        }
      ]
    },
    {
      "cell_type": "markdown",
      "source": [
        "Escreva um programa em python que receba dois números inteiros e exiba o quociente e o resto da divisão inteira entre eles."
      ],
      "metadata": {
        "id": "Z3tqbBieQoz4"
      }
    },
    {
      "cell_type": "code",
      "source": [
        "N1 = float(input('Divire o valor do primeiro número: '))\n",
        "N2 = float(input('Divire o valor do segundo número: '))\n",
        "print(f'O valor do quociente da divisão entre o primeiro e segundo número é {N1//N2} com resto igual a {N1%N2}')"
      ],
      "metadata": {
        "colab": {
          "base_uri": "https://localhost:8080/"
        },
        "id": "9ooKHbu2Qp0s",
        "outputId": "e2b9092e-0d78-4c08-d86f-153a91f2a6a6"
      },
      "execution_count": 11,
      "outputs": [
        {
          "output_type": "stream",
          "name": "stdout",
          "text": [
            "Divire o valor do primeiro número: 10\n",
            "Divire o valor do segundo número: 4\n",
            "O valor do quociente da divisão entre o primeiro e segundo número é 2.0 com resto igual a 2.0\n"
          ]
        }
      ]
    },
    {
      "cell_type": "markdown",
      "source": [
        "Dado que a fórmula para conversão de Fahrenheit para Celsius é C = 5/9 (F – 32), escreva um programa em python que receba um valor de temperatura em Fahrenheit e exibi-o em Celsius"
      ],
      "metadata": {
        "id": "GM-72pGCSAee"
      }
    },
    {
      "cell_type": "code",
      "source": [
        "F = float(input('Digite o valor em Fahrenheit que deseja converter para Celsious: '))\n",
        "print(f'O valor de {F} Fahrenheit é equivalente a {5/9*(F - 32)} em Celsious')"
      ],
      "metadata": {
        "colab": {
          "base_uri": "https://localhost:8080/"
        },
        "id": "3tzoZRklSB8s",
        "outputId": "59d170bb-dae3-4cf4-fa29-6d1ed1edfad5"
      },
      "execution_count": 13,
      "outputs": [
        {
          "output_type": "stream",
          "name": "stdout",
          "text": [
            "Digite o valor em Fahrenheit que deseja converter para Celsious: 100\n",
            "O valor de 100.0 Fahrenheit é equivalente a 37.77777777777778 em Celsious\n"
          ]
        }
      ]
    },
    {
      "cell_type": "markdown",
      "source": [
        "Faça programa em python para calcular a nota semestral de um aluno. A nota semestral é obtida pela média aritmética entre a nota de 2 bimestres. Cada nota de bimestre é composta por 2 notas de provas."
      ],
      "metadata": {
        "id": "wE9Z8Aa3VxHh"
      }
    },
    {
      "cell_type": "code",
      "source": [
        "P1 = float([])\n",
        "P2 = []\n",
        "\n",
        "for i in [1,2]: \n",
        "  P1(i) = i\n",
        "  #P1[i-1] = float(input('Digite o valor da primeira prova: '))\n",
        "  #P2[i-1] = float(input('Digite o valor da segunda prova: '))"
      ],
      "metadata": {
        "colab": {
          "base_uri": "https://localhost:8080/",
          "height": 133
        },
        "id": "F-FzDovsVyK1",
        "outputId": "d34219cc-d9aa-4e36-9c96-d258a1403baf"
      },
      "execution_count": 27,
      "outputs": [
        {
          "output_type": "error",
          "ename": "SyntaxError",
          "evalue": "ignored",
          "traceback": [
            "\u001b[0;36m  File \u001b[0;32m\"<ipython-input-27-bbd6f0f70951>\"\u001b[0;36m, line \u001b[0;32m5\u001b[0m\n\u001b[0;31m    P1(i) = i\u001b[0m\n\u001b[0m    ^\u001b[0m\n\u001b[0;31mSyntaxError\u001b[0m\u001b[0;31m:\u001b[0m can't assign to function call\n"
          ]
        }
      ]
    },
    {
      "cell_type": "markdown",
      "source": [
        "Escreva um programa que leia um número inteiro de 1 a 7 e informe o dia da semana correspondente, sendo domingo o dia de número 1. Se o número não corresponder a um dia da semana, mostre uma mensagem de erro."
      ],
      "metadata": {
        "id": "cTpStZ8HhC7X"
      }
    },
    {
      "cell_type": "code",
      "source": [
        "numero = int(input(\"Digite um número entre 1 e 7: \"))\n",
        "\n",
        "if numero >= 1 and numero <= 7:\n",
        "  if numero == 1:\n",
        "    print(\"Domingo\")\n",
        "  elif numero == 2:\n",
        "    print(\"Segunda-feira\")\n",
        "  elif numero == 3:\n",
        "    print(\"Terça-feira\")\n",
        "  elif numero == 4:\n",
        "    print(\"Quarta-feira\")\n",
        "  elif numero == 5:\n",
        "    print(\"Quinta-feira\")\n",
        "  elif numero == 6:\n",
        "    print(\"Sexta-feira\")\n",
        "  else:\n",
        "    print(\"Sábado\")\n",
        "else: \n",
        "  print(\"Você digitou um número incorreto.\")"
      ],
      "metadata": {
        "id": "9iAtq3eRhEK9"
      },
      "execution_count": null,
      "outputs": []
    },
    {
      "cell_type": "markdown",
      "source": [
        "Em uma certificação são feitos são feitos 5 exames (I, II, III, IV e V). Escreva um programa que leia as notas destes exames e imprima a classificação do aluno, sabendo que a média é 70.\n",
        "\n",
        "Classificação: A – passou em todos os exames;\n",
        "B – passou em I, II e IV, mas não em III ou V;\n",
        "C – passou em I e II, III ou IV, mas não em V.\n",
        "Reprovado – outras situações."
      ],
      "metadata": {
        "id": "ZuTrqlvshKcP"
      }
    },
    {
      "cell_type": "code",
      "source": [
        "nota01 = float(input(f'Informe a nota I:'))\n",
        "nota02 = float(input(f'Informe a nota II:'))\n",
        "nota03 = float(input(f'Informe a nota III:'))\n",
        "nota04 = float(input(f'Informe a nota IV:'))\n",
        "nota05 = float(input(f'Informe a nota V:'))\n",
        "\n",
        "'''\n",
        "Classificação: A – passou em todos os exames;\n",
        "B – passou em I, II e IV, mas não em III ou V;\n",
        "C – passou em I e II, III ou IV, mas não em V.\n",
        "'''\n",
        "#primeiro caso\n",
        "if nota01>=70 and nota02>=70 and nota03 >=70 and nota04>=70 and nota05>=70:\n",
        "  print(\"Classificação: A\")\n",
        "#segundo\n",
        "#segundo caso\n",
        "elif (nota01>=70 and nota02>=70 and nota04 >=70):\n",
        "   if nota03 <70 and nota05<70:\n",
        "      print(\"Classificação: B\")\n",
        "   else:\n",
        "      print('Reprovado')\n",
        "#terceiro caso\n",
        "elif (nota01>=70 and nota02>=70): \n",
        "  if (nota03 >=70 or nota04>=70):\n",
        "    if nota05<70:\n",
        "      print(\"Classificação: C\")\n",
        "    else:\n",
        "      print('Reprovado')\n",
        "  else:\n",
        "      print('Reprovado')\n",
        "else:\n",
        "  print('Reprovado')"
      ],
      "metadata": {
        "id": "UavRw29uhteB"
      },
      "execution_count": null,
      "outputs": []
    },
    {
      "cell_type": "markdown",
      "source": [
        "Uma Cia de pulverização utiliza avião para pulverizar lavouras. Os custos de pulverização dependem do tipo de praga e da área a ser contratada conforme a tabela:\n",
        "\n",
        "Tipo 1 - ervas daninhas R$ 50,00 por acre;\n",
        "\n",
        "Tipo 2 - gafanhotos R$ 100,00 por acre;\n",
        "\n",
        "Tipo 3 - broca R$ 150,00 por acre;\n",
        "\n",
        "Tipo 4 - todos acima R$ 250,00 por acre.\n",
        "\n",
        "Se a área a ser pulverizada for superior a 1000 acres, o fazendeiro tem um desconto de 5%. Em adição, qualquer fazendeiro cujo custo for maior do que R$ 750,00 tem um desconto de 10% sobre o valor que ultrapassar os R$ 750,00. Caso ambos os descontos se aplicam o da área é calculado antes. Fazer um algoritmo que leia: o tipo de pulverização (1 a 4) e área a ser pulverizada; e imprima o valor a ser pago."
      ],
      "metadata": {
        "id": "cgKJSKQ6h0oU"
      }
    },
    {
      "cell_type": "code",
      "source": [
        "tipo_pulv = int(input(\"Digite o tipo de pulverização (1 a 4):\" ))\n",
        "area_pulv = float(input(\"Digite a área a ser pulverizada:\" ))\n",
        "\n",
        "if tipo_pulv==1:\n",
        "  valor = area_pulv*50\n",
        "elif (tipo_pulv == 2):\n",
        "  valor = area_pulv*100\n",
        "elif (tipo_pulv == 3):\n",
        "  valor = area_pulv*150\n",
        "else:\n",
        "  valor = area_pulv*250\n",
        "\n",
        "if area_pulv > 1000:\n",
        "  valor = valor*0.95\n",
        "elif valor > 750:\n",
        "  excesso = valor - 750\n",
        "  excesso_descontado = excesso*0.9\n",
        "  valor = 750 + excesso_descontado\n",
        "\n",
        "print(f\"O valor a ser pago é: {valor}\")"
      ],
      "metadata": {
        "id": "A7_TpiKuhT1O"
      },
      "execution_count": null,
      "outputs": []
    },
    {
      "cell_type": "markdown",
      "source": [
        "Faça um programa que leia um nome de usuário e a sua senha e não aceite a senha igual ao nome do usuário, mostrando uma mensagem de erro e voltando a pedir as informações."
      ],
      "metadata": {
        "id": "8JaxqTE9yxhH"
      }
    },
    {
      "cell_type": "code",
      "source": [
        "nome = input('Digite seu nome: ')\n",
        "senha = nome\n",
        "while nome==senha:\n",
        "  senha = input('Digite sua senha: ')\n",
        "  if nome==senha:\n",
        "    print('Erro! Nome e senha iguais')\n",
        "\n"
      ],
      "metadata": {
        "colab": {
          "base_uri": "https://localhost:8080/"
        },
        "id": "rICdmr94ysEC",
        "outputId": "0a1d4f50-2ef5-4026-e256-4d46dcc9b7fe"
      },
      "execution_count": 7,
      "outputs": [
        {
          "name": "stdout",
          "output_type": "stream",
          "text": [
            "Digite seu nome: fausto\n",
            "Digite sua senha: fausto\n",
            "Erro! Nome e senha iguais\n",
            "Digite sua senha: 100\n"
          ]
        }
      ]
    },
    {
      "cell_type": "markdown",
      "source": [
        "Faça um programa que calcule o fatorial de um número inteiro fornecido pelo usuário. Ex.: 5!=5.4.3.2.1=120. A saída deve ser conforme o exemplo abaixo:"
      ],
      "metadata": {
        "id": "uEYbSZh8109_"
      }
    },
    {
      "cell_type": "code",
      "source": [
        "numero = int(input('Digite o valor do Fatorial que deseja calcular :'))\n",
        "i=1\n",
        "myfatorial = 1\n",
        "while i<(numero+1): \n",
        "  myfatorial*= i \n",
        "  i+=1 #contador\n",
        "print(f'O valor do Fatorial desejado é {myfatorial} !')"
      ],
      "metadata": {
        "colab": {
          "base_uri": "https://localhost:8080/"
        },
        "id": "vDwri6om12v5",
        "outputId": "8cc0db7a-4da6-408a-a42c-ca3c01e5d31e"
      },
      "execution_count": 23,
      "outputs": [
        {
          "output_type": "stream",
          "name": "stdout",
          "text": [
            "Digite o valor do Fatorial que deseja calcular :5\n",
            "O valor do Fatorial desejado é 120 !\n"
          ]
        }
      ]
    },
    {
      "cell_type": "markdown",
      "source": [
        "Escreva um programa que encontra o maximo divisor comum entre dois números"
      ],
      "metadata": {
        "id": "d6sdQB554Hzq"
      }
    },
    {
      "cell_type": "code",
      "source": [
        "N1 = float(input('Digite seu primeiro número:'))\n",
        "N2 = float(input('Digite seu segundo número: '))\n",
        "resto = N1%N2\n",
        "while resto!=0:\n",
        "  N1 = N2\n",
        "  N2 = resto\n",
        "  resto = N1%N2\n",
        "\n",
        "print(f'O MDC é {N2}')"
      ],
      "metadata": {
        "colab": {
          "base_uri": "https://localhost:8080/"
        },
        "id": "UhP_YpCM4KDz",
        "outputId": "8787ef94-a1bf-4297-c8aa-c1fbb153158d"
      },
      "execution_count": 26,
      "outputs": [
        {
          "output_type": "stream",
          "name": "stdout",
          "text": [
            "Digite seu primeiro número:30\n",
            "Digite seu segundo número: 20\n",
            "O MDC é 10.0\n"
          ]
        }
      ]
    },
    {
      "cell_type": "markdown",
      "source": [
        "Faça a somatória de todos os numeros seguindo a sequência:\n",
        "\n",
        "11+12+13+14+15+16+...+11000"
      ],
      "metadata": {
        "id": "2FIqBFlI7Npu"
      }
    },
    {
      "cell_type": "code",
      "source": [
        "I = int(input('Digite o valor inicial: '))\n",
        "F = int(input('Digite o valor final: '))\n",
        "soma = 0\n",
        "while F>=I:\n",
        "  soma = soma + F\n",
        "  F = F-1\n",
        "\n",
        "print(f'O valor total da soma é {soma}')"
      ],
      "metadata": {
        "colab": {
          "base_uri": "https://localhost:8080/"
        },
        "id": "mfR9HXBK5Wrx",
        "outputId": "a8e618d9-cebb-4510-c03d-ed5dfc1f7958"
      },
      "execution_count": 7,
      "outputs": [
        {
          "output_type": "stream",
          "name": "stdout",
          "text": [
            "Digite o valor inicial: 11\n",
            "Digite o valor final: 11000\n",
            "O valor total da soma é 60505445\n"
          ]
        }
      ]
    },
    {
      "cell_type": "markdown",
      "source": [
        "$ \\frac{1}{1} + \\frac{1}{2} + \\frac{1}{4} + \\frac{1}{8} + \\frac{1}{16} + \\frac{1}{32} + ... + \\frac{1}{2^{n}} $\n"
      ],
      "metadata": {
        "id": "2vgQj_7o_dM0"
      }
    },
    {
      "cell_type": "code",
      "source": [
        "n = float(input('Digite a quantidade de termos n para a série desejada: '))\n",
        "valor = 0\n",
        "contador = 0\n",
        "while (n-1)>contador:\n",
        "  print(f'1/{2**contador}', '+', end=' ') \n",
        "  valor+= 1/(2**(contador))\n",
        "  contador+=1\n",
        "  \n",
        "print(f'1/{2**contador}')\n",
        "valor+= 1/(2**(contador))\n",
        "print(f'O valor da série é {valor}')\n"
      ],
      "metadata": {
        "colab": {
          "base_uri": "https://localhost:8080/"
        },
        "id": "VqhESJ5mAvgp",
        "outputId": "c27cf6ab-2db4-40cb-8e73-6c2589be3e0d"
      },
      "execution_count": 11,
      "outputs": [
        {
          "output_type": "stream",
          "name": "stdout",
          "text": [
            "Digite a quantidade de termos n para a série desejada: 3\n",
            "1/1 + 1/2 + 1/4\n",
            "O valor da série é 1.75\n"
          ]
        }
      ]
    },
    {
      "cell_type": "markdown",
      "source": [
        "**5)** Seguindo a mesma ideia do exercício 4, faça a soma da seguinte sequência: <br>\n",
        "\n",
        "$ \\frac{1}{1!} + \\frac{1}{2!} + \\frac{1}{3!} + \\frac{1}{4!} + \\frac{1}{5!} + \\frac{1}{6!} + ... + \\frac{1}{100!} $"
      ],
      "metadata": {
        "id": "lAdGgGl3Y6a7"
      }
    },
    {
      "cell_type": "code",
      "source": [
        "n = float(input('Digite a quantidade de termos n para a série desejada: '))\n",
        "valor = 0\n",
        "contador = 1\n",
        "myfatorial = 1\n",
        "while n>=contador:\n",
        "  valor+= 1/(myfatorial)\n",
        "  myfatorial *=(contador+1)\n",
        "  contador+=1\n",
        "\n",
        "print(f'Somátorio: {valor}')\n",
        "  "
      ],
      "metadata": {
        "colab": {
          "base_uri": "https://localhost:8080/"
        },
        "id": "uwZcG6XaY8ng",
        "outputId": "08085b00-c221-4584-c81f-335817de7084"
      },
      "execution_count": 40,
      "outputs": [
        {
          "output_type": "stream",
          "name": "stdout",
          "text": [
            "Digite a quantidade de termos n para a série desejada: 5\n",
            "Somátorio: 1.7166666666666668\n"
          ]
        }
      ]
    },
    {
      "cell_type": "markdown",
      "source": [
        "**4)** Faça a somatória de todos os numeros seguindo a sequência: <br>\n",
        "\n",
        "$ \\frac{1}{1} + \\frac{1}{2} + \\frac{1}{3} + \\frac{1}{4} + \\frac{1}{5} + \\frac{1}{6} + ... + \\frac{1}{1000} $"
      ],
      "metadata": {
        "id": "LujZFi9M7doy"
      }
    },
    {
      "cell_type": "code",
      "source": [],
      "metadata": {
        "id": "hf5e-zoA7gAL"
      },
      "execution_count": null,
      "outputs": []
    },
    {
      "cell_type": "code",
      "source": [
        "lista = [10, 25,32 ,41]\n",
        "ind = 0\n",
        "while ind<len(lista):\n",
        "  print(lista[ind])\n",
        "  ind+=1\n",
        "\n"
      ],
      "metadata": {
        "colab": {
          "base_uri": "https://localhost:8080/"
        },
        "id": "WjaXP-vnDF_e",
        "outputId": "b3cfc70b-6037-4c63-fe15-6b8cae49ea65"
      },
      "execution_count": 48,
      "outputs": [
        {
          "output_type": "stream",
          "name": "stdout",
          "text": [
            "10\n",
            "25\n",
            "32\n",
            "41\n"
          ]
        }
      ]
    },
    {
      "cell_type": "code",
      "source": [
        "#range \n",
        "lista = [13, 14, 19, 61, 30]\n",
        "tamanho = len(lista)\n",
        "#for i in range(tamanho-1,0,-1):\n",
        "#  print(lista[i])\n",
        "\n",
        "\n",
        "for elemento in lista:\n",
        "  print(elemento)"
      ],
      "metadata": {
        "colab": {
          "base_uri": "https://localhost:8080/"
        },
        "id": "qLigY6xzEhRs",
        "outputId": "cf23c3f8-13ec-4a0d-9e9c-682424b17d71"
      },
      "execution_count": 56,
      "outputs": [
        {
          "output_type": "stream",
          "name": "stdout",
          "text": [
            "13\n",
            "14\n",
            "19\n",
            "61\n",
            "30\n"
          ]
        }
      ]
    },
    {
      "cell_type": "code",
      "source": [
        "lista = ['a', 'b','c', 42, 73, 435, [1,3,4, [3,'oi',True]]]\n",
        "lista[:]\n",
        "lista[1:4]\n",
        "lista[0:2]\n",
        "lista[6]\n",
        "lista[6][-1]\n",
        "lista[6][-1][2]"
      ],
      "metadata": {
        "colab": {
          "base_uri": "https://localhost:8080/"
        },
        "id": "rxeY9NvoF10i",
        "outputId": "405cbdaf-e941-43f6-94b9-54c07d405642"
      },
      "execution_count": 69,
      "outputs": [
        {
          "output_type": "execute_result",
          "data": {
            "text/plain": [
              "True"
            ]
          },
          "metadata": {},
          "execution_count": 69
        }
      ]
    },
    {
      "cell_type": "code",
      "source": [
        "list('Python')"
      ],
      "metadata": {
        "colab": {
          "base_uri": "https://localhost:8080/"
        },
        "id": "1w_1J1iVHuYe",
        "outputId": "bded00a2-1122-4f64-cfe8-5cb4b00e515e"
      },
      "execution_count": 70,
      "outputs": [
        {
          "output_type": "execute_result",
          "data": {
            "text/plain": [
              "['P', 'y', 't', 'h', 'o', 'n']"
            ]
          },
          "metadata": {},
          "execution_count": 70
        }
      ]
    },
    {
      "cell_type": "code",
      "source": [
        "lista = [1, 2, 3, 4, 5]\n",
        "lista*3\n",
        "lista1 = [1, 3, 5]\n",
        "lista2 = [7, 9, 11]\n",
        "lista1 = [lista1, lista2]\n",
        "lista1"
      ],
      "metadata": {
        "colab": {
          "base_uri": "https://localhost:8080/"
        },
        "id": "ErWdZNjmHxSa",
        "outputId": "3b24c360-5c27-4e23-f760-ab702a248865"
      },
      "execution_count": 73,
      "outputs": [
        {
          "output_type": "execute_result",
          "data": {
            "text/plain": [
              "[[1, 3, 5], [7, 9, 11]]"
            ]
          },
          "metadata": {},
          "execution_count": 73
        }
      ]
    },
    {
      "cell_type": "markdown",
      "source": [
        "Um exemplo para o cálculo de média dos valores em uma lista...\n",
        "\n",
        "Mas fazemos o usuário digitar os elementos da lista, um a um!"
      ],
      "metadata": {
        "id": "FHVBINlNW1qc"
      }
    },
    {
      "cell_type": "code",
      "source": [
        "numeros = input('Digite a quantidade de elementos da lista: ')\n",
        "contador = 1\n",
        "lista =[]\n",
        "while contador<=int(numeros):\n",
        "  algo = float(input('Digite um elemento da lista: '))\n",
        "  lista.append(algo)\n",
        "  contador+=1\n",
        "\n",
        "media = sum(lista)/len(lista)\n",
        "\n",
        "print(f'A média é {media}')\n"
      ],
      "metadata": {
        "colab": {
          "base_uri": "https://localhost:8080/"
        },
        "id": "mJTMqh6NUaT2",
        "outputId": "bd6fbb3c-a95e-4416-f728-9765dad6aa32"
      },
      "execution_count": 82,
      "outputs": [
        {
          "output_type": "stream",
          "name": "stdout",
          "text": [
            "Digite a quantidade de elementos da lista: 4\n",
            "Digite um elemento da lista: 10\n",
            "Digite um elemento da lista: 8\n",
            "Digite um elemento da lista: 9\n",
            "Digite um elemento da lista: 7\n",
            "A média é 8.5\n"
          ]
        }
      ]
    },
    {
      "cell_type": "markdown",
      "source": [
        "## Exercícios\n",
        "\n",
        "**1)** Dada uma lista encadeada de caracteres formada por uma seqüência alternada de\n",
        "letras e dígitos, crei algoritmo que retorne uma lista na qual as letras são mantidas\n",
        "na seqüência original e os dígitos são colocados na ordem inversa. Exemplos:\n",
        "\n",
        "\n",
        "A 1 E 5 T 7 W 8 G<br>\n",
        "®: A E T W G 8 7 5 1\n",
        "\n",
        "3 C 9 H 4 Q 6<br>\n",
        "®: C H Q 6 4 9 3\n",
        "\n",
        "\n",
        "Como mostram os exemplos, as letras devem ser mostradas primeiro, seguidas dos\n",
        "dígitos. Sugestões:\n",
        "- usar método isdigit() que retorna booleano que retorna verdadeiro caso um\n",
        "caractere seja um dígito. https://www.w3schools.com/python/ref_string_isdigit.asp"
      ],
      "metadata": {
        "id": "3KX66jLwXxR7"
      }
    },
    {
      "cell_type": "code",
      "source": [
        "#lista = ['A', '1', 'E', '5', 'T', '7', 'W', '8', 'G']\n",
        "lista = ['3', 'C', '9', 'H', '4', 'Q', '6']\n",
        "numeros = []\n",
        "letras = []\n",
        "for i in lista:\n",
        "  if i.isdigit():\n",
        "    numeros.append(i)\n",
        "  else:\n",
        "    letras.insert(0,i)\n",
        "#organização\n",
        "letras.reverse()\n",
        "numeros.reverse()\n",
        "print(letras+numeros)"
      ],
      "metadata": {
        "colab": {
          "base_uri": "https://localhost:8080/"
        },
        "id": "-bUjxKGDYneW",
        "outputId": "61c2bcb2-03c6-4358-be9c-250fc34b7ff8"
      },
      "execution_count": 135,
      "outputs": [
        {
          "output_type": "stream",
          "name": "stdout",
          "text": [
            "['C', 'H', 'Q', '6', '4', '9', '3']\n"
          ]
        }
      ]
    },
    {
      "cell_type": "markdown",
      "source": [
        "**2)** Faça um algoritmo que recebe uma lista encadeada de números inteiros e retorna uma lista sem repetições, ou seja, uma lista onde cada número apareça apenas uma\n",
        "vez. Exemplo:\n",
        "\n",
        "12, 5, -7, 8, 5, 9, 12, 1, 8 <br>\n",
        "®: 12, 5, -7, 8, 9, 1"
      ],
      "metadata": {
        "id": "pOiyXDex1ZpN"
      }
    },
    {
      "cell_type": "code",
      "source": [
        "n = float(input('Digite a quandidade da sequencia de numeros da série: '))\n",
        "cont = 0 #contador\n",
        "lista = []\n",
        "#carrega a listagem\n",
        "while cont<n:\n",
        "  v = int(input('Digite uma sequência de numeros: '))\n",
        "  lista.append(v)\n",
        "  cont+=1\n",
        "#retira os valores repetidos\n",
        "for x in lista:\n",
        "  while lista.count(x)>1:\n",
        "    lista.remove(x)\n",
        "\n",
        "print(lista)"
      ],
      "metadata": {
        "colab": {
          "base_uri": "https://localhost:8080/"
        },
        "id": "jz6caXgk1ea0",
        "outputId": "6c1f6e3a-0ae4-4618-dc99-0e8cb86576db"
      },
      "execution_count": 11,
      "outputs": [
        {
          "output_type": "stream",
          "name": "stdout",
          "text": [
            "Digite a quandidade da sequencia de numeros da série: 12\n",
            "Digite uma sequência de numeros: 5\n",
            "Digite uma sequência de numeros: -7\n",
            "Digite uma sequência de numeros: 8\n",
            "Digite uma sequência de numeros: 5\n",
            "Digite uma sequência de numeros: 12\n",
            "Digite uma sequência de numeros: 1\n",
            "Digite uma sequência de numeros: 8\n",
            "Digite uma sequência de numeros: 12\n",
            "Digite uma sequência de numeros: 12\n",
            "Digite uma sequência de numeros: 17\n",
            "Digite uma sequência de numeros: 19\n",
            "Digite uma sequência de numeros: 20\n",
            "[5, -7, 8, 5, 12, 1, 8, 12, 12, 17, 19, 20]\n",
            "[-7, 5, 1, 8, 12, 17, 19, 20]\n"
          ]
        }
      ]
    },
    {
      "cell_type": "markdown",
      "source": [
        "**3)** Usando o conceito de pilha faça um algoritmo que recebe uma linha de python e valida se os parênteses estão certos. Exemplo:\n",
        "\n",
        "print(int(input('Teste: ')))<br>\n",
        "®: Válido\n",
        "\n",
        "print(list(str(175414)).count('1')<br>\n",
        "®: Inválido. "
      ],
      "metadata": {
        "id": "7NiYBlcz69hh"
      }
    },
    {
      "cell_type": "code",
      "source": [
        "expressao = input('Digite a linha em Python para teste: ')\n",
        "pilha = []\n",
        "ctd = 0\n",
        "for x in expressao:\n",
        "  if x=='(':\n",
        "    pilha.append(x)\n",
        "  elif x==')':\n",
        "    pilha.pop(-1) \n",
        "\n",
        "if len(pilha)==0: \n",
        "  print('Correto!')\n",
        "else:\n",
        "  print('Errado!')"
      ],
      "metadata": {
        "colab": {
          "base_uri": "https://localhost:8080/"
        },
        "id": "BYp4HWYx69Gd",
        "outputId": "eed2bb3c-defd-4bae-ee91-c60d73ec59f1"
      },
      "execution_count": 16,
      "outputs": [
        {
          "output_type": "stream",
          "name": "stdout",
          "text": [
            "Digite a linha em Python para teste: print(list(str(175414)).count('1')\n",
            "Errado!\n"
          ]
        }
      ]
    }
  ],
  "metadata": {
    "colab": {
      "collapsed_sections": [],
      "name": "Welcome To Colaboratory",
      "toc_visible": true,
      "provenance": [],
      "include_colab_link": true
    },
    "kernelspec": {
      "display_name": "Python 3",
      "name": "python3"
    }
  },
  "nbformat": 4,
  "nbformat_minor": 0
}