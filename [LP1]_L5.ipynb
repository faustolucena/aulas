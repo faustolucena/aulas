{
  "nbformat": 4,
  "nbformat_minor": 0,
  "metadata": {
    "colab": {
      "provenance": [],
      "authorship_tag": "ABX9TyOvC9q/VHZZc0VcrB4O1ZiQ",
      "include_colab_link": true
    },
    "kernelspec": {
      "name": "python3",
      "display_name": "Python 3"
    },
    "language_info": {
      "name": "python"
    }
  },
  "cells": [
    {
      "cell_type": "markdown",
      "metadata": {
        "id": "view-in-github",
        "colab_type": "text"
      },
      "source": [
        "<a href=\"https://colab.research.google.com/github/faustolucena/aulas/blob/main/%5BLP1%5D_L5.ipynb\" target=\"_parent\"><img src=\"https://colab.research.google.com/assets/colab-badge.svg\" alt=\"Open In Colab\"/></a>"
      ]
    },
    {
      "cell_type": "markdown",
      "source": [
        "**Questão 6** -- Faça programa em python para calcular a nota semestral de um aluno. A nota semestral é obtida pela média aritmética entre a nota de 2 bimestres. Cada nota de bimestre é composta por 2 notas de provas."
      ],
      "metadata": {
        "id": "9FjfW2bfhC4I"
      }
    },
    {
      "cell_type": "code",
      "execution_count": null,
      "metadata": {
        "colab": {
          "base_uri": "https://localhost:8080/"
        },
        "id": "fgM9qU94hCBs",
        "outputId": "eec42084-cd7e-4bb7-ef01-ff78594786d2"
      },
      "outputs": [
        {
          "output_type": "stream",
          "name": "stdout",
          "text": [
            "Digite a nota da 1 prova do 1 bimestre: 10\n",
            "Digite a nota da 2 prova do 1 bimestre: 7\n",
            "Digite a nota da 1 prova do 2 bimestre: 6\n",
            "Digite a nota da 2 prova do 2 bimestre: 5\n",
            "A média semestral é 7.0\n"
          ]
        }
      ],
      "source": [
        "\n",
        "n = 0\n",
        "for bimestre in range(1,3):\n",
        "  for prova in range(1,3):\n",
        "    v = float(input(f'Digite a nota da {prova} prova do {bimestre} bimestre: '))\n",
        "    n+= v\n",
        "\n",
        "print(f'A média semestral é {n/4}')\n",
        "\n"
      ]
    },
    {
      "cell_type": "markdown",
      "source": [
        "Questão #1\n",
        "\n",
        "Faça um programa que receba uma frase, uma palavra antiga e uma palavra nova. o programa deve imprimir uma string contendo a frase original, mas com a última ocorrência da palavra antiga substituída pela palavra nova.\n",
        "\n",
        "Exemplo:\n",
        "\n",
        "Frase: \"Quem parte e reparte fica com a maior parte\"\n",
        "Palavra antiga: \"parte\"\n",
        "Palavra nova: \"parcela\"\n",
        "Resultado a ser impresso: \"Quem parte e reparte fica com a maior parcela\""
      ],
      "metadata": {
        "id": "hdKuCB37lyhq"
      }
    },
    {
      "cell_type": "code",
      "source": [
        "#ENTRADA\n",
        "frase = input('Digite uma frase: ')\n",
        "palavra_antiga = input('Digite uma palavra antiga: ')\n",
        "palavra_nova = input('Digite uma palavra nova: ')\n",
        "#INVERTE AS FRASES (OLHA DE TRÁS PARA FRENTE)\n",
        "frase1 = frase[::-1]\n",
        "palavra_antiga1 = palavra_antiga[::-1]\n",
        "palavra_nova1 = palavra_nova[::-1]\n",
        "#SUBSTITUI A FRASE INVERTIDA\n",
        "substituida= frase1.replace(palavra_antiga1,palavra_nova1,1)\n",
        "#IMPRIME A SAÏDA \"DISVERTIDA\" :)\n",
        "print(substituida[::-1])\n",
        "\n"
      ],
      "metadata": {
        "colab": {
          "base_uri": "https://localhost:8080/"
        },
        "id": "BcUmXCkVl3EA",
        "outputId": "fcc99632-a6c0-4c95-a6db-8e783c81932c"
      },
      "execution_count": null,
      "outputs": [
        {
          "output_type": "stream",
          "name": "stdout",
          "text": [
            "Digite uma frase: Quem parte e reparte fica com a maior parte\n",
            "Digite uma palavra antiga: parte\n",
            "Digite uma palavra nova: parcela\n",
            "Quem parte e reparte fica com a maior parcela\n"
          ]
        }
      ]
    },
    {
      "cell_type": "code",
      "source": [
        "\n"
      ],
      "metadata": {
        "colab": {
          "base_uri": "https://localhost:8080/"
        },
        "id": "TtWtdYkIimdl",
        "outputId": "7b50aa20-d95d-4036-fa17-dc02520e55c7"
      },
      "execution_count": null,
      "outputs": [
        {
          "output_type": "execute_result",
          "data": {
            "text/plain": [
              "<function __main__.mymedia()>"
            ]
          },
          "metadata": {},
          "execution_count": 4
        }
      ]
    },
    {
      "cell_type": "markdown",
      "source": [
        "**Q2 -** Faça um programa em python que receba uma frase qualquer em que as palavras são separadas por espaço, e substitua todos esses espaços por #. Imprima o resultado."
      ],
      "metadata": {
        "id": "oeRbhv92xEAd"
      }
    },
    {
      "cell_type": "code",
      "source": [
        "txt = 'Uma frase qualquer'\n",
        "x = txt.replace(' ','#') #cuidado com os espaçõs\n",
        "print(x)"
      ],
      "metadata": {
        "colab": {
          "base_uri": "https://localhost:8080/"
        },
        "id": "cc7yv07XxC08",
        "outputId": "676b0040-6af3-4ba6-9050-1e88edfbf7ca"
      },
      "execution_count": 8,
      "outputs": [
        {
          "output_type": "stream",
          "name": "stdout",
          "text": [
            "Uma#frase#qualquer\n"
          ]
        }
      ]
    },
    {
      "cell_type": "markdown",
      "source": [
        " **Q3 -** Faça um programa que leia o nome do usuário e o imprima na vertical, em forma de escada, usando apenas letras maiúsculas.\n",
        "\n",
        "Exemplo:\n",
        "Nome = Vanessa Resultado gerado pelo programa:\n",
        "\n",
        "V\n",
        "VA\n",
        "VAN\n",
        "VANE\n",
        "VANES\n",
        "VANESS\n",
        "VANESSA\n",
        "\n"
      ],
      "metadata": {
        "id": "htkv7XJ31q8-"
      }
    },
    {
      "cell_type": "code",
      "source": [
        "txt = input('Digite um nome próprio: ')\n",
        "txtnew = txt.upper()\n",
        "for i,  x in enumerate(txtnew):\n",
        "  print(x*(i+1))\n",
        "\n"
      ],
      "metadata": {
        "colab": {
          "base_uri": "https://localhost:8080/"
        },
        "id": "rqh2Pb9V1__n",
        "outputId": "2287c851-c693-4cf3-8d6c-e1a601fe6fb7"
      },
      "execution_count": 14,
      "outputs": [
        {
          "output_type": "stream",
          "name": "stdout",
          "text": [
            "Digite um nome próprio: fausto\n",
            "F\n",
            "AA\n",
            "UUU\n",
            "SSSS\n",
            "TTTTT\n",
            "OOOOOO\n"
          ]
        }
      ]
    },
    {
      "cell_type": "markdown",
      "source": [
        "**Q4 -** Faça um programa que leia o nome do usuário e mostre o nome de traz para frente, utilizando somente letras maiúsculas.\n",
        "\n",
        "Exemplo:\n",
        "Nome = Renato Resultado gerado pelo programa: OTANER"
      ],
      "metadata": {
        "id": "AAfJ8o133xTq"
      }
    },
    {
      "cell_type": "code",
      "source": [
        "txt = input('Digite o nome do usuário: ')\n",
        "txtnew = txt.upper()\n",
        "print(txtnew[::-1])"
      ],
      "metadata": {
        "colab": {
          "base_uri": "https://localhost:8080/"
        },
        "id": "bZSyNuLI3_HY",
        "outputId": "4276178b-8b44-413d-a45f-19964285721d"
      },
      "execution_count": 17,
      "outputs": [
        {
          "output_type": "stream",
          "name": "stdout",
          "text": [
            "Digite o nome do usuário: Renato\n",
            "OTANER\n"
          ]
        }
      ]
    },
    {
      "cell_type": "markdown",
      "source": [
        "**Q5 -** Faça um programa que leia 2 strings e informe o conteúdo delas seguido do seu comprimento. Informe também se as duas strings possuem o mesmo comprimento e são iguais ou diferentes no conteúdo"
      ],
      "metadata": {
        "id": "O_pD14Q09YaD"
      }
    },
    {
      "cell_type": "code",
      "source": [
        "txt1 = input('Digite a primeira palavra: ')\n",
        "txt2 = input('Digite a segunda palavra: ')\n",
        "\n",
        "print(f'{txt1} possui {len(txt1)} letras')\n",
        "print(f'{txt2} possui {len(txt2)} letras')\n",
        "if len(txt1)==len(txt2):\n",
        "  print(f'As palavras possuem a mesma quantidade de letras')\n",
        "else:\n",
        "  print(f'As palavras possuem difentes quantidade de letras')\n",
        "if txt1.upper()==txt2.upper():\n",
        "  print(f'As palavras possuem o mesmo conteúdo')\n",
        "else:\n",
        "  print(f'As palavras são diferentes')"
      ],
      "metadata": {
        "colab": {
          "base_uri": "https://localhost:8080/"
        },
        "id": "VUqllUUH9gRV",
        "outputId": "5c47e260-dc56-4286-897b-74ff39a48de8"
      },
      "execution_count": 20,
      "outputs": [
        {
          "output_type": "stream",
          "name": "stdout",
          "text": [
            "Digite a primeira palavrafausto\n",
            "Digite a segunda palavraFausto\n",
            "fausto possui 6 letras\n",
            "Fausto possui 6 letras\n",
            "As palavras possuem a mesma quantidade de letras\n",
            "As palavras possuem o mesmo conteúdo\n"
          ]
        }
      ]
    },
    {
      "cell_type": "markdown",
      "source": [
        "**Q6 --** Faça um programa em python que leia uma frase qualquer e um início de palavra. O programa deve imprimir uma lista com apenas as palavras que começam com o início de palavra informado.\n",
        "\n",
        "Exemplo:\n",
        "\n",
        "Frase = \"Programar em python é muito legal. Existem muitos desafios.\"\n",
        "\n",
        "Início de palavra = \"mui\"\n",
        "\n",
        "Resultado: [\"muito\", \"muitos\"]"
      ],
      "metadata": {
        "id": "YsU2wthUAFqc"
      }
    },
    {
      "cell_type": "code",
      "source": [
        "txt = 'Programar em python é muito legal. Existem muitos desafios dos muitoes muitolionatios'\n",
        "palavra = 'mui'\n",
        "lista = []\n",
        "txtsplit = txt.split()\n",
        "for x in txtsplit:\n",
        "  if palavra == x[0:len(palavra)]:\n",
        "    lista.append(x)\n",
        "#saida\n",
        "print(lista)"
      ],
      "metadata": {
        "colab": {
          "base_uri": "https://localhost:8080/"
        },
        "id": "VZ5bPYSSAjnB",
        "outputId": "3075dfad-d478-4c83-862c-5eaabe61f3b8"
      },
      "execution_count": 38,
      "outputs": [
        {
          "output_type": "stream",
          "name": "stdout",
          "text": [
            "['muito', 'muitos', 'muitoes', 'muitolionatios']\n"
          ]
        }
      ]
    },
    {
      "cell_type": "markdown",
      "source": [
        "**Q8 -** Faça um programa em python que leia uma frase qualquer e um final de palavra. O programa deve imprimir uma lista com apenas as palavras que terminam com o final de palavra informado.\n",
        "\n",
        "Exemplo:\n",
        "\n",
        "Frase = \"Programar em python é muito legal. Existem muitos desafios.\"\n",
        "\n",
        "Início de palavra = \"os\"\n",
        "\n",
        "Resultado: [\"muitos\", \"desafios\"]"
      ],
      "metadata": {
        "id": "1upjD39FoAnw"
      }
    },
    {
      "cell_type": "code",
      "source": [
        "txt = 'Programos em python é muito legal. Existem muitos desafios.'\n",
        "txt = txt.replace('.',' ')\n",
        "palavra = 'gal'\n",
        "lista = []\n",
        "txtsplit = txt.split()\n",
        "for x in txtsplit:\n",
        "  if palavra == x[len(x)-len(palavra)::]:\n",
        "    lista.append(x)\n",
        "#saida\n",
        "print(lista)"
      ],
      "metadata": {
        "colab": {
          "base_uri": "https://localhost:8080/"
        },
        "id": "A2gu3PhVoTYO",
        "outputId": "65f1e5de-69e1-40ee-8833-e4c85fdbf44f"
      },
      "execution_count": 44,
      "outputs": [
        {
          "output_type": "stream",
          "name": "stdout",
          "text": [
            "['legal']\n"
          ]
        }
      ]
    },
    {
      "cell_type": "markdown",
      "source": [],
      "metadata": {
        "id": "lsbFqMRmIB7h"
      }
    },
    {
      "cell_type": "markdown",
      "source": [
        "# Exerício 2:\n",
        "\n",
        " Dado uma string com uma frase informada pelo usuário (incluindo espaços em branco), conte: <br>\n",
        "    - quantos espaços em branco existem na frase. <br>\n",
        "    - quantas vezes aparecem as vogais a, e, i, o, u. "
      ],
      "metadata": {
        "id": "GzYKr3YZGjXg"
      }
    },
    {
      "cell_type": "code",
      "source": [
        "frase = input(\"Digite uma frase: \")\n",
        "frase = frase.lower()\n",
        "contador_espacos = frase.count(\" \")\n",
        "print(f\"Quantidade de espaços: {contador_espacos}\")\n",
        "print(f\"Quantidade de as: {frase.count('a')}\")\n",
        "print(f\"Quantidade de es: {frase.count('e')}\")\n",
        "print(f\"Quantidade de is: {frase.count('i')}\")\n",
        "print(f\"Quantidade de os: {frase.count('o')}\")\n",
        "print(f\"Quantidade de us: {frase.count('u')}\")\n"
      ],
      "metadata": {
        "colab": {
          "base_uri": "https://localhost:8080/"
        },
        "id": "RwhMM1sHIItz",
        "outputId": "1eb3b79e-5b03-4334-9bee-c71a8424061f"
      },
      "execution_count": 50,
      "outputs": [
        {
          "output_type": "stream",
          "name": "stdout",
          "text": [
            "Digite uma frase: aaaaaaaaa\n",
            "Quantidade de espaços: 0\n",
            "Quantidade de as: 9\n",
            "Quantidade de es: 0\n",
            "Quantidade de is: 0\n",
            "Quantidade de os: 0\n",
            "Quantidade de us: 0\n"
          ]
        }
      ]
    },
    {
      "cell_type": "markdown",
      "source": [
        "# Exerício 3:\n",
        "\n",
        "Faça um programa que leia um número de telefone, e corrija o número no caso deste conter somente 7 dígitos, acrescentando o '3' na frente. O usuário pode informar o número com ou sem o traço separador.\n",
        "\n",
        "    Valida e corrige número de telefone\n",
        "    Telefone: 461-0133\n",
        "    Telefone possui 7 dígitos. Vou acrescentar o digito três na frente.\n",
        "    Telefone corrigido sem formatação: 34610133\n",
        "    Telefone corrigido com formatação: 3461-0133"
      ],
      "metadata": {
        "id": "09I6gDCVMuY2"
      }
    },
    {
      "cell_type": "code",
      "source": [
        "tel = input(\"Digite o número de telefone: \")\n",
        "tel = tel.replace(\"-\",\"\")\n",
        "if len(tel)==7:\n",
        "  tel=\"3\"+tel\n",
        "  telc = tel[:4] + \"-\" + tel[4:]\n",
        "  print(f\"Telefone corrigido sem formatação:{tel}\")\n",
        "  print(f\"Telefone corrigido com formatação:{telc}\")\n",
        "else: \n",
        "  print(f\"Número invalido\")\n"
      ],
      "metadata": {
        "colab": {
          "base_uri": "https://localhost:8080/"
        },
        "id": "vuF4WkSrMvk3",
        "outputId": "3bd73573-022f-4ce3-993f-948cbe50e356"
      },
      "execution_count": 73,
      "outputs": [
        {
          "output_type": "stream",
          "name": "stdout",
          "text": [
            "Digite o número de telefone: 4-564321\n",
            "Telefone corrigido sem formatação:34564321\n",
            "Telefone corrigido com formatação:3456-4321\n"
          ]
        }
      ]
    }
  ]
}