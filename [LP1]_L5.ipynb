{
  "nbformat": 4,
  "nbformat_minor": 0,
  "metadata": {
    "colab": {
      "provenance": [],
      "authorship_tag": "ABX9TyPan358mKQejPXr5HEeyg2z",
      "include_colab_link": true
    },
    "kernelspec": {
      "name": "python3",
      "display_name": "Python 3"
    },
    "language_info": {
      "name": "python"
    }
  },
  "cells": [
    {
      "cell_type": "markdown",
      "metadata": {
        "id": "view-in-github",
        "colab_type": "text"
      },
      "source": [
        "<a href=\"https://colab.research.google.com/github/faustolucena/aulas/blob/main/%5BLP1%5D_L5.ipynb\" target=\"_parent\"><img src=\"https://colab.research.google.com/assets/colab-badge.svg\" alt=\"Open In Colab\"/></a>"
      ]
    },
    {
      "cell_type": "markdown",
      "source": [
        "**Questão 6** -- Faça programa em python para calcular a nota semestral de um aluno. A nota semestral é obtida pela média aritmética entre a nota de 2 bimestres. Cada nota de bimestre é composta por 2 notas de provas."
      ],
      "metadata": {
        "id": "9FjfW2bfhC4I"
      }
    },
    {
      "cell_type": "code",
      "execution_count": null,
      "metadata": {
        "colab": {
          "base_uri": "https://localhost:8080/"
        },
        "id": "fgM9qU94hCBs",
        "outputId": "eec42084-cd7e-4bb7-ef01-ff78594786d2"
      },
      "outputs": [
        {
          "output_type": "stream",
          "name": "stdout",
          "text": [
            "Digite a nota da 1 prova do 1 bimestre: 10\n",
            "Digite a nota da 2 prova do 1 bimestre: 7\n",
            "Digite a nota da 1 prova do 2 bimestre: 6\n",
            "Digite a nota da 2 prova do 2 bimestre: 5\n",
            "A média semestral é 7.0\n"
          ]
        }
      ],
      "source": [
        "\n",
        "n = 0\n",
        "for bimestre in range(1,3):\n",
        "  for prova in range(1,3):\n",
        "    v = float(input(f'Digite a nota da {prova} prova do {bimestre} bimestre: '))\n",
        "    n+= v\n",
        "\n",
        "print(f'A média semestral é {n/4}')\n",
        "\n"
      ]
    },
    {
      "cell_type": "markdown",
      "source": [
        "Questão #1\n",
        "\n",
        "Faça um programa que receba uma frase, uma palavra antiga e uma palavra nova. o programa deve imprimir uma string contendo a frase original, mas com a última ocorrência da palavra antiga substituída pela palavra nova.\n",
        "\n",
        "Exemplo:\n",
        "\n",
        "Frase: \"Quem parte e reparte fica com a maior parte\"\n",
        "Palavra antiga: \"parte\"\n",
        "Palavra nova: \"parcela\"\n",
        "Resultado a ser impresso: \"Quem parte e reparte fica com a maior parcela\""
      ],
      "metadata": {
        "id": "hdKuCB37lyhq"
      }
    },
    {
      "cell_type": "code",
      "source": [
        "#ENTRADA\n",
        "frase = input('Digite uma frase: ')\n",
        "palavra_antiga = input('Digite uma palavra antiga: ')\n",
        "palavra_nova = input('Digite uma palavra nova: ')\n",
        "#INVERTE AS FRASES (OLHA DE TRÁS PARA FRENTE)\n",
        "frase1 = frase[::-1]\n",
        "palavra_antiga1 = palavra_antiga[::-1]\n",
        "palavra_nova1 = palavra_nova[::-1]\n",
        "#SUBSTITUI A FRASE INVERTIDA\n",
        "substituida= frase1.replace(palavra_antiga1,palavra_nova1,1)\n",
        "#IMPRIME A SAÏDA \"DISVERTIDA\" :)\n",
        "print(substituida[::-1])\n",
        "\n"
      ],
      "metadata": {
        "colab": {
          "base_uri": "https://localhost:8080/"
        },
        "id": "BcUmXCkVl3EA",
        "outputId": "fcc99632-a6c0-4c95-a6db-8e783c81932c"
      },
      "execution_count": null,
      "outputs": [
        {
          "output_type": "stream",
          "name": "stdout",
          "text": [
            "Digite uma frase: Quem parte e reparte fica com a maior parte\n",
            "Digite uma palavra antiga: parte\n",
            "Digite uma palavra nova: parcela\n",
            "Quem parte e reparte fica com a maior parcela\n"
          ]
        }
      ]
    },
    {
      "cell_type": "code",
      "source": [
        "\n"
      ],
      "metadata": {
        "colab": {
          "base_uri": "https://localhost:8080/"
        },
        "id": "TtWtdYkIimdl",
        "outputId": "7b50aa20-d95d-4036-fa17-dc02520e55c7"
      },
      "execution_count": null,
      "outputs": [
        {
          "output_type": "execute_result",
          "data": {
            "text/plain": [
              "<function __main__.mymedia()>"
            ]
          },
          "metadata": {},
          "execution_count": 4
        }
      ]
    },
    {
      "cell_type": "markdown",
      "source": [
        "**Q2 -** Faça um programa em python que receba uma frase qualquer em que as palavras são separadas por espaço, e substitua todos esses espaços por #. Imprima o resultado."
      ],
      "metadata": {
        "id": "oeRbhv92xEAd"
      }
    },
    {
      "cell_type": "code",
      "source": [
        "txt = 'Uma frase qualquer'\n",
        "x = txt.replace(' ','#') #cuidado com os espaçõs\n",
        "print(x)"
      ],
      "metadata": {
        "colab": {
          "base_uri": "https://localhost:8080/"
        },
        "id": "cc7yv07XxC08",
        "outputId": "676b0040-6af3-4ba6-9050-1e88edfbf7ca"
      },
      "execution_count": 8,
      "outputs": [
        {
          "output_type": "stream",
          "name": "stdout",
          "text": [
            "Uma#frase#qualquer\n"
          ]
        }
      ]
    },
    {
      "cell_type": "markdown",
      "source": [
        " **Q3 -** Faça um programa que leia o nome do usuário e o imprima na vertical, em forma de escada, usando apenas letras maiúsculas.\n",
        "\n",
        "Exemplo:\n",
        "Nome = Vanessa Resultado gerado pelo programa:\n",
        "\n",
        "V\n",
        "VA\n",
        "VAN\n",
        "VANE\n",
        "VANES\n",
        "VANESS\n",
        "VANESSA\n",
        "\n"
      ],
      "metadata": {
        "id": "htkv7XJ31q8-"
      }
    },
    {
      "cell_type": "code",
      "source": [
        "txt = input('Digite um nome próprio: ')\n",
        "txtnew = txt.upper()\n",
        "for i,  x in enumerate(txtnew):\n",
        "  print(x*(i+1))\n",
        "\n"
      ],
      "metadata": {
        "colab": {
          "base_uri": "https://localhost:8080/"
        },
        "id": "rqh2Pb9V1__n",
        "outputId": "2287c851-c693-4cf3-8d6c-e1a601fe6fb7"
      },
      "execution_count": 14,
      "outputs": [
        {
          "output_type": "stream",
          "name": "stdout",
          "text": [
            "Digite um nome próprio: fausto\n",
            "F\n",
            "AA\n",
            "UUU\n",
            "SSSS\n",
            "TTTTT\n",
            "OOOOOO\n"
          ]
        }
      ]
    },
    {
      "cell_type": "markdown",
      "source": [
        "**Q4 -** Faça um programa que leia o nome do usuário e mostre o nome de traz para frente, utilizando somente letras maiúsculas.\n",
        "\n",
        "Exemplo:\n",
        "Nome = Renato Resultado gerado pelo programa: OTANER"
      ],
      "metadata": {
        "id": "AAfJ8o133xTq"
      }
    },
    {
      "cell_type": "code",
      "source": [
        "txt = input('Digite o nome do usuário: ')\n",
        "txtnew = txt.upper()\n",
        "print(txtnew[::-1])"
      ],
      "metadata": {
        "colab": {
          "base_uri": "https://localhost:8080/"
        },
        "id": "bZSyNuLI3_HY",
        "outputId": "4276178b-8b44-413d-a45f-19964285721d"
      },
      "execution_count": 17,
      "outputs": [
        {
          "output_type": "stream",
          "name": "stdout",
          "text": [
            "Digite o nome do usuário: Renato\n",
            "OTANER\n"
          ]
        }
      ]
    },
    {
      "cell_type": "markdown",
      "source": [
        "**Q5 -** Faça um programa que leia 2 strings e informe o conteúdo delas seguido do seu comprimento. Informe também se as duas strings possuem o mesmo comprimento e são iguais ou diferentes no conteúdo"
      ],
      "metadata": {
        "id": "O_pD14Q09YaD"
      }
    },
    {
      "cell_type": "code",
      "source": [
        "txt1 = input('Digite a primeira palavra: ')\n",
        "txt2 = input('Digite a segunda palavra: ')\n",
        "\n",
        "print(f'{txt1} possui {len(txt1)} letras')\n",
        "print(f'{txt2} possui {len(txt2)} letras')\n",
        "if len(txt1)==len(txt2):\n",
        "  print(f'As palavras possuem a mesma quantidade de letras')\n",
        "else:\n",
        "  print(f'As palavras possuem difentes quantidade de letras')\n",
        "if txt1.upper()==txt2.upper():\n",
        "  print(f'As palavras possuem o mesmo conteúdo')\n",
        "else:\n",
        "  print(f'As palavras são diferentes')"
      ],
      "metadata": {
        "colab": {
          "base_uri": "https://localhost:8080/"
        },
        "id": "VUqllUUH9gRV",
        "outputId": "5c47e260-dc56-4286-897b-74ff39a48de8"
      },
      "execution_count": 20,
      "outputs": [
        {
          "output_type": "stream",
          "name": "stdout",
          "text": [
            "Digite a primeira palavrafausto\n",
            "Digite a segunda palavraFausto\n",
            "fausto possui 6 letras\n",
            "Fausto possui 6 letras\n",
            "As palavras possuem a mesma quantidade de letras\n",
            "As palavras possuem o mesmo conteúdo\n"
          ]
        }
      ]
    },
    {
      "cell_type": "markdown",
      "source": [
        "**Q6 --** Faça um programa em python que leia uma frase qualquer e um início de palavra. O programa deve imprimir uma lista com apenas as palavras que começam com o início de palavra informado.\n",
        "\n",
        "Exemplo:\n",
        "\n",
        "Frase = \"Programar em python é muito legal. Existem muitos desafios.\"\n",
        "\n",
        "Início de palavra = \"mui\"\n",
        "\n",
        "Resultado: [\"muito\", \"muitos\"]"
      ],
      "metadata": {
        "id": "YsU2wthUAFqc"
      }
    }
  ]
}