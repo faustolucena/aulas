{
  "nbformat": 4,
  "nbformat_minor": 0,
  "metadata": {
    "colab": {
      "provenance": [],
      "include_colab_link": true
    },
    "kernelspec": {
      "name": "python3",
      "display_name": "Python 3"
    },
    "language_info": {
      "name": "python"
    }
  },
  "cells": [
    {
      "cell_type": "markdown",
      "metadata": {
        "id": "view-in-github",
        "colab_type": "text"
      },
      "source": [
        "<a href=\"https://colab.research.google.com/github/faustolucena/aulas/blob/main/Aula_list_Comprehension_II.ipynb\" target=\"_parent\"><img src=\"https://colab.research.google.com/assets/colab-badge.svg\" alt=\"Open In Colab\"/></a>"
      ]
    },
    {
      "cell_type": "code",
      "execution_count": null,
      "metadata": {
        "colab": {
          "base_uri": "https://localhost:8080/"
        },
        "id": "lzCCVkLBCXC9",
        "outputId": "4aaf7bad-9893-4278-a333-4c4aac7922f0"
      },
      "outputs": [
        {
          "output_type": "stream",
          "name": "stdout",
          "text": [
            "Informe uma frase: alo marciano, aqui quem fala é da terra\n",
            "['alo', 'aqui']\n"
          ]
        }
      ],
      "source": [
        "# [expressao(item) for item in lista if condicao(item)]\n",
        "frase = input(\"Informe uma frase: \")\n",
        "frase = frase.split()\n",
        "lista_b = [item for item in frase if item.startswith('a')]\n",
        "print(lista_b)"
      ]
    },
    {
      "cell_type": "code",
      "source": [
        "notas = [1, 8, 9, 6]\n",
        "alunos = [\"João\", \"Ana\", \"Maria\", \"José\"]\n",
        "{aluno:\"aprovado\" if nota >= 7 else \"reprovado\" for nota, aluno in zip(notas, alunos)}"
      ],
      "metadata": {
        "colab": {
          "base_uri": "https://localhost:8080/"
        },
        "id": "QSsm-Ui-GVIJ",
        "outputId": "fef068eb-f933-48d8-8155-9a31feb07f0a"
      },
      "execution_count": null,
      "outputs": [
        {
          "output_type": "execute_result",
          "data": {
            "text/plain": [
              "{'João': 'reprovado',\n",
              " 'Ana': 'aprovado',\n",
              " 'Maria': 'aprovado',\n",
              " 'José': 'reprovado'}"
            ]
          },
          "metadata": {},
          "execution_count": 6
        }
      ]
    }
  ]
}