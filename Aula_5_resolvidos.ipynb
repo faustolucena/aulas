{
  "nbformat": 4,
  "nbformat_minor": 0,
  "metadata": {
    "colab": {
      "provenance": [],
      "authorship_tag": "ABX9TyPQ7fRiTek/sDjS+1//db8q",
      "include_colab_link": true
    },
    "kernelspec": {
      "name": "python3",
      "display_name": "Python 3"
    },
    "language_info": {
      "name": "python"
    }
  },
  "cells": [
    {
      "cell_type": "markdown",
      "metadata": {
        "id": "view-in-github",
        "colab_type": "text"
      },
      "source": [
        "<a href=\"https://colab.research.google.com/github/faustolucena/aulas/blob/main/Aula_5_resolvidos.ipynb\" target=\"_parent\"><img src=\"https://colab.research.google.com/assets/colab-badge.svg\" alt=\"Open In Colab\"/></a>"
      ]
    },
    {
      "cell_type": "code",
      "execution_count": 1,
      "metadata": {
        "colab": {
          "base_uri": "https://localhost:8080/"
        },
        "id": "HpXrlddBVLBJ",
        "outputId": "0fc57d11-c920-4eeb-8ed5-ec4304c3ca70"
      },
      "outputs": [
        {
          "output_type": "stream",
          "name": "stdout",
          "text": [
            "abc\n"
          ]
        }
      ],
      "source": [
        "texto = 'ab'\n",
        "texto+='c'\n",
        "print(texto)"
      ]
    },
    {
      "cell_type": "markdown",
      "source": [
        "# Exercício 1:\n",
        "\n",
        "Faça um programa em python que permita que o usuário digite uma frase qualquer, e que seja capaz de separar as palavras desta frase em uma lista resultante: Exemplo:\n",
        "\n",
        "frase = \"Bem vindo João\"\n",
        "lista_resultante = [\"Bem\", \"vindo\", \"João\"]\n",
        "\n",
        "**Observação**: Não utilizar funções de string prontas para esta atividade (exemplo: **split()**)"
      ],
      "metadata": {
        "id": "fuvFuuPkfxWS"
      }
    },
    {
      "cell_type": "code",
      "source": [
        "frase = 'Mais uma vez por fim'\n",
        "lista = []\n",
        "temp = ''\n",
        "for x in frase:\n",
        "  if x == ' ':\n",
        "    lista.append(temp)\n",
        "    temp = '' #reinicia temp\n",
        "  else:\n",
        "    temp+=x\n",
        "\n",
        "if temp:\n",
        "  lista.append(temp)\n",
        "\n",
        "print(lista)"
      ],
      "metadata": {
        "colab": {
          "base_uri": "https://localhost:8080/"
        },
        "id": "M5ZeKPPaf3gB",
        "outputId": "3a11c4d9-c877-4e86-93b4-7c290d80c05f"
      },
      "execution_count": 109,
      "outputs": [
        {
          "output_type": "stream",
          "name": "stdout",
          "text": [
            "['Mais', 'uma', 'vez', 'por', 'fim']\n"
          ]
        }
      ]
    },
    {
      "cell_type": "code",
      "source": [
        "frase = 'Mais uma vez por fim'\n",
        "lista = []\n",
        "temp = ''\n",
        "\n",
        "for x in frase:\n",
        "  if x==' ':\n",
        "    lista.append(temp)\n",
        "    temp = ''\n",
        "  else:\n",
        "    temp+=x\n",
        "\n",
        "if temp:\n",
        "  lista.append(temp)\n",
        "\n",
        "print(lista)"
      ],
      "metadata": {
        "colab": {
          "base_uri": "https://localhost:8080/"
        },
        "id": "ffydZ7n2egQq",
        "outputId": "4dc4e499-b803-4a26-b0d8-9256be8cc4f7"
      },
      "execution_count": 13,
      "outputs": [
        {
          "output_type": "stream",
          "name": "stdout",
          "text": [
            "['Mais', 'uma', 'vez', 'por', 'fim']\n"
          ]
        }
      ]
    },
    {
      "cell_type": "markdown",
      "source": [
        "# Exerício 2:\n",
        "\n",
        "Faça um programa em python que leia uma palavra, e retorne a quantidade de caracteres que a compõe.\n",
        "\n",
        "**Observação**: Não utilize a função len() para esta atividade."
      ],
      "metadata": {
        "id": "TUkhpVDpJNDl"
      }
    },
    {
      "cell_type": "code",
      "source": [
        "palavra = input('Digite uma palavra: ')\n",
        "count=0\n",
        "for x in palavra:\n",
        "  count+=1\n",
        "\n",
        "print(f'A quantidade de cracteres para palavra {palavra} é {count}')"
      ],
      "metadata": {
        "colab": {
          "base_uri": "https://localhost:8080/"
        },
        "id": "d64WZbgtJOf_",
        "outputId": "c7de195c-9d39-4d19-9b2c-69450e994610"
      },
      "execution_count": 112,
      "outputs": [
        {
          "output_type": "stream",
          "name": "stdout",
          "text": [
            "Digite uma palavra: fausto lucena de oliveira\n",
            "A quantidade de cracteres para palavra fausto lucena de oliveira é 25\n"
          ]
        }
      ]
    },
    {
      "cell_type": "markdown",
      "source": [
        "# Exerício 3:\n",
        "\n",
        "Faça um programa em python que leia uma data no formato 'dd/mm/aaaa', e retorne o dia, mês e ano. O programa também deverá ser capaz de validar se a data digitada está correta. \n",
        "\n",
        "Exemplo 1: <br>\n",
        "Entrada:\n",
        "data = '01/01/2022' <br>\n",
        "\n",
        "Saída:\n",
        "dia = '01'\n",
        "mes = '01'\n",
        "ano = '2022'\n",
        "\n",
        "Exemplo 2: <br>\n",
        "Entrada:\n",
        "data = '40/01/2022' <br>\n",
        "\n",
        "Saída:\n",
        "'data inválida'\n",
        "\n",
        "**Observação**: Não utilize a funções ou bibliotecas prontas para esta atividade (exemplo: datetime)."
      ],
      "metadata": {
        "id": "WNN3flAnKF08"
      }
    },
    {
      "cell_type": "code",
      "source": [
        "\n",
        "entrada = '31/02/2022'\n",
        "lista = '' #quando for trabalhar com string deve-se iniciar\n",
        "for x in entrada:\n",
        "  if  x.isdigit()!=0:\n",
        "    lista+=x\n",
        "\n",
        "Dia = lista[0:2]\n",
        "Mes = lista[2:4]\n",
        "Ano = lista[4:9]\n",
        "\n",
        "if len(lista)==8 and 1<=int(Dia)<=31 and 1<=int(Mes)<=12 and 1<=int(Ano)<=5000:\n",
        "  print('Data Valida!')\n",
        "  print(f'dia = {Dia} mes = {Mes} ano = {Ano}')\n",
        "else: \n",
        "  print('Data invalida!')\n"
      ],
      "metadata": {
        "colab": {
          "base_uri": "https://localhost:8080/"
        },
        "id": "Fbh6n8MVKHk0",
        "outputId": "7dc77089-4dcd-484a-99a0-d447808ed944"
      },
      "execution_count": 205,
      "outputs": [
        {
          "output_type": "stream",
          "name": "stdout",
          "text": [
            "Data Valida!\n",
            "dia = 31 mes = 02 ano = 2022\n"
          ]
        }
      ]
    },
    {
      "cell_type": "markdown",
      "source": [
        "# Exercício 4:\n",
        "\n",
        "Faça um programa que permita ao usuário digitar o seu nome e em seguida mostre o nome do usuário de trás para frente.\n",
        "\n",
        "**Observação**: Não utilize funções prontas para esta atividade (exemplo: reverse de lista :D )."
      ],
      "metadata": {
        "id": "-FS-lGSqcFag"
      }
    },
    {
      "cell_type": "code",
      "source": [
        "nome = 'Fausto'\n",
        "reverso = ''\n",
        "for i, x in enumerate(nome):\n",
        "  reverso+=(nome[-i-1])\n",
        "\n",
        "print(reverso)\n",
        "\n"
      ],
      "metadata": {
        "colab": {
          "base_uri": "https://localhost:8080/"
        },
        "id": "FefzQDC9ZMoV",
        "outputId": "cc359aab-7eb3-412a-aca5-b6af7a3572b4"
      },
      "execution_count": 2,
      "outputs": [
        {
          "output_type": "stream",
          "name": "stdout",
          "text": [
            "otsuaF\n"
          ]
        }
      ]
    },
    {
      "cell_type": "markdown",
      "source": [
        "# Exercício 5:\n",
        "\n",
        "Palíndromo. Um palíndromo é uma seqüência de caracteres cuja leitura é idêntica se feita da direita para esquerda ou vice−versa. Por exemplo: OSSO e OVO são palíndromos. Em textos mais complexos os espaços e pontuação são ignorados. A frase SUBI NO ONIBUS é o exemplo de uma frase palíndroma onde os espaços foram ignorados. Faça um programa que leia uma seqüência de caracteres, mostre−a e diga se é um palíndromo ou não. "
      ],
      "metadata": {
        "id": "CY2nJS1bcNTA"
      }
    },
    {
      "cell_type": "code",
      "source": [
        "#nome = 'OSSO'\n",
        "#nome = 'SUBI NO ONIBUS'\n",
        "nome = 'Brasil'\n",
        "reverso = '' \n",
        "nova = ''\n",
        "#retira os espaços em branco\n",
        "for i in nome:\n",
        "  if i!=' ':\n",
        "    nova+=i\n",
        "#inverte\n",
        "for i, x in enumerate(nova):\n",
        "  reverso+=(nova[-i-1])\n",
        "#verifica se é palindromo\n",
        "if reverso==nova:\n",
        "  print(f'A palavra {nome} é palíndroma')\n",
        "else:\n",
        "  print(f'A palavra {nome} não é palíndroma')"
      ],
      "metadata": {
        "colab": {
          "base_uri": "https://localhost:8080/"
        },
        "id": "SoNQrjqacSCY",
        "outputId": "3c1556cc-02b1-4dcd-e961-a25dbacfe521"
      },
      "execution_count": 11,
      "outputs": [
        {
          "output_type": "stream",
          "name": "stdout",
          "text": [
            "A palavra Brasil não é palíndroma\n"
          ]
        }
      ]
    },
    {
      "cell_type": "code",
      "source": [
        "ano = int(input())\n",
        "\n",
        "if (ano % 4 == 0 and ano % 100 != 0) or ano % 400 == 0:\n",
        "    print('Ano bissexto.')\n",
        "else:\n",
        "    print('Não é um ano bissexto.')"
      ],
      "metadata": {
        "colab": {
          "base_uri": "https://localhost:8080/"
        },
        "id": "g4ms756LnOTB",
        "outputId": "53f34fa5-00f8-45dd-c8b1-9521c96142a9"
      },
      "execution_count": 17,
      "outputs": [
        {
          "output_type": "stream",
          "name": "stdout",
          "text": [
            "2000\n",
            "Ano bissexto.\n"
          ]
        }
      ]
    }
  ]
}